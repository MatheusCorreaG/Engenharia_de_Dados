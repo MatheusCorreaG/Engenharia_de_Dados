{
 "cells": [
  {
   "cell_type": "code",
   "execution_count": null,
   "id": "particular-anthony",
   "metadata": {},
   "outputs": [],
   "source": [
    "import pandas as pd\n",
    "from datetime import datetime\n",
    "from pathlib import Path \n",
    "import psycopg2 as sql\n",
    "from sqlalchemy import create_engine"
   ]
  },
  {
   "cell_type": "markdown",
   "id": "typical-glory",
   "metadata": {},
   "source": [
    "# Coleta de dados do site do IBGE"
   ]
  },
  {
   "cell_type": "code",
   "execution_count": null,
   "id": "female-rotation",
   "metadata": {
    "scrolled": false
   },
   "outputs": [],
   "source": [
    "#Coleta dos dados\n",
    "url = 'https://www.ibge.gov.br/explica/codigos-dos-municipios.php#RJ'\n",
    "\n",
    "dadosIBGE = pd.DataFrame(pd.read_html(url, match= \"Municípios do Rio de Janeiro\")[0])\n",
    "dadosIBGE"
   ]
  },
  {
   "cell_type": "code",
   "execution_count": null,
   "id": "middle-advisory",
   "metadata": {},
   "outputs": [],
   "source": [
    "# Renomeando colunas\n",
    "dadosIBGE = dadosIBGE.rename(columns= {'Municípios do Rio de Janeiro': 'nmMunic', 'Códigos':'codMunic'})\n",
    "\n",
    "#Alterando nome do index\n",
    "dadosIBGE.index.name = 'idMunic'\n",
    "\n",
    "#Aletrando para iniciar do 1\n",
    "dadosIBGE.index = dadosIBGE.index +1\n",
    "\n",
    "#Adicionando uma coluna de data e hora de carga\n",
    "\n",
    "dtCarga = datetime.today().strftime('%d/%m/%y %H:%M')\n",
    "dadosIBGE['dtCarga'] = dtCarga\n",
    "dadosIBGE"
   ]
  },
  {
   "cell_type": "code",
   "execution_count": null,
   "id": "sexual-welsh",
   "metadata": {
    "scrolled": true
   },
   "outputs": [],
   "source": [
    "dadosIBGE.info()"
   ]
  },
  {
   "cell_type": "markdown",
   "id": "fleet-article",
   "metadata": {},
   "source": [
    "# Conectando no banco de dados ODS"
   ]
  },
  {
   "cell_type": "code",
   "execution_count": null,
   "id": "large-renaissance",
   "metadata": {
    "scrolled": false
   },
   "outputs": [],
   "source": [
    "host = \"localhost\"  # ou o endereço do servidor PostgreSQL\n",
    "port = \"5432\"       # a porta padrão é 5432\n",
    "database = \"pascoaODS\"  # substitua pelo nome do banco de dados\n",
    "user = \"postgres\"  # substitua pelo nome do usuário do PostgreSQL\n",
    "password = \"bloqeiodofgh\"  # substitua pela senha do usuário do PostgreSQL\n",
    "\n",
    "# Conectando ao PostgreSQL\n",
    "try:\n",
    "    connection = sql.connect(\n",
    "        host=host,\n",
    "        port=port,\n",
    "        database=database,\n",
    "        user=user,\n",
    "        password=password\n",
    "    )\n",
    "    print(\"Conexão ao PostgreSQL bem-sucedida!\")\n",
    "    # Faça suas operações com o banco de dados aqui...\n",
    "    #connection.close()  # Não esqueça de fechar a conexão quando terminar!\n",
    "except sql.Error as e:\n",
    "    print(\"Erro ao conectar ao PostgreSQL:\", e)\n"
   ]
  },
  {
   "cell_type": "markdown",
   "id": "sealed-lafayette",
   "metadata": {},
   "source": [
    "# MANIPULANDO OS BANCOS DE DADOS CRIADOS"
   ]
  },
  {
   "cell_type": "code",
   "execution_count": null,
   "id": "catholic-blame",
   "metadata": {},
   "outputs": [],
   "source": [
    "# Carregar os dados do DataFrame dadosIBGE na tabela tbLogMunic\n",
    "# Certifique-se de que o DataFrame corresponde à estrutura da tabela\n",
    "engine = create_engine(f\"postgresql://{user}:{password}@{host}:{port}/{database}\")\n",
    "dadosIBGE.to_sql('tbLogMunic', engine, if_exists=\"append\", index=False)"
   ]
  },
  {
   "cell_type": "markdown",
   "id": "encouraging-intervention",
   "metadata": {},
   "source": [
    "# Importando dados dos  dados de cadastro das delegacias de polícia"
   ]
  },
  {
   "cell_type": "code",
   "execution_count": null,
   "id": "polyphonic-trust",
   "metadata": {
    "scrolled": false
   },
   "outputs": [],
   "source": [
    "tbLogDP = pd.DataFrame(pd.read_csv('DP.CSV'))\n",
    "\n",
    "#Criando coluna de data de carga\n",
    "tbLogDP['dtCarga'] = datetime.today().strftime('%d/%m/%y %H:%M')\n",
    "tbLogDP"
   ]
  },
  {
   "cell_type": "markdown",
   "id": "characteristic-furniture",
   "metadata": {},
   "source": [
    "# Importando dados dados de cadastro dos responsáveis pelas delegacias de polícia"
   ]
  },
  {
   "cell_type": "code",
   "execution_count": null,
   "id": "ranging-swift",
   "metadata": {
    "scrolled": true
   },
   "outputs": [],
   "source": [
    "tbLogRespDP = pd.DataFrame(pd.read_csv('ResponsavelDP.CSV'))\n",
    "\n",
    "#Criando coluna de data de carga\n",
    "tbLogRespDP['dtCarga'] = datetime.today().strftime('%d/%m/%y %H:%M')\n",
    "tbLogRespDP"
   ]
  },
  {
   "cell_type": "markdown",
   "id": "common-breakfast",
   "metadata": {},
   "source": [
    "# Conectando no ODS e informando ao python que usarei linguagem SQL"
   ]
  },
  {
   "cell_type": "code",
   "execution_count": null,
   "id": "level-pickup",
   "metadata": {},
   "outputs": [],
   "source": [
    "#Definição de manipulação de dados em SQL\n",
    "SQL_ODS = connection.cursor()"
   ]
  },
  {
   "cell_type": "markdown",
   "id": "immune-attachment",
   "metadata": {},
   "source": [
    "# Inserindo registros na tabela tbLogDP"
   ]
  },
  {
   "cell_type": "code",
   "execution_count": null,
   "id": "cellular-surface",
   "metadata": {
    "scrolled": false
   },
   "outputs": [],
   "source": [
    "#Inserindo registros na tabela tbLogDP\n",
    "print(\"Iniciando a inserção de dados na tabela tbLogDP.\")\n",
    "print(\"-------------------------------------------------\")\n",
    "\n",
    "SQL_ODS.executemany('''INSERT INTO tbLogDP (cod_DP,nm_DP,endereco,dtCarga) VALUES (%s, %s, %s, %s)''',tbLogDP.values.tolist())\n",
    "\n",
    "#confirmar a transação\n",
    "connection.commit()\n",
    "\n",
    "#Exibir uma mensagem de conclusão de carga\n",
    "print(\"Carga finalizada!\",len(tbLogDP), \"registros inseridos na tbLogDP!\")"
   ]
  },
  {
   "cell_type": "markdown",
   "id": "close-frederick",
   "metadata": {},
   "source": [
    "# Inserindo registros na tabela tbLogRespDP"
   ]
  },
  {
   "cell_type": "code",
   "execution_count": null,
   "id": "bottom-permission",
   "metadata": {},
   "outputs": [],
   "source": [
    "#Inserindo registros na tabela tbLogRespDP\n",
    "print(\"Iniciando a inserção de dados na tabela tbLogRespDP.\")\n",
    "print(\"-------------------------------------------------\")\n",
    "\n",
    "SQL_ODS.executemany('''INSERT INTO tbLogRespDP (cod_DP, Responsavel, dtCarga) VALUES (%s, %s, %s)''',tbLogRespDP.values.tolist())\n",
    "\n",
    "#confirmar a transação\n",
    "connection.commit()\n",
    "\n",
    "#Exibir uma mensagem de conclusão de carga\n",
    "print(\"Carga finalizada!\",len(tbLogRespDP), \"registros inseridos na tbLogRespDP!\")"
   ]
  },
  {
   "cell_type": "markdown",
   "id": "structural-above",
   "metadata": {},
   "source": [
    "# Criando o dataframe com o select de criação da dimensão dp (ddp), no dw"
   ]
  },
  {
   "cell_type": "code",
   "execution_count": null,
   "id": "young-confidentiality",
   "metadata": {},
   "outputs": [],
   "source": [
    "qry_dDP = '''\n",
    "SELECT cod_dp, nm_dp, endereco, responsavel\n",
    "from\n",
    "( SELECT\n",
    "            a.cod_DP,\n",
    "            a.nm_DP,\n",
    "            a.endereco,\n",
    "            b.responsavel,\n",
    "            max(a.dtCarga)\n",
    "        FROM tbLogDP a\n",
    "        JOIN tbLogRespDP b\n",
    "        on a.cod_DP = b.cod_DP\n",
    "        GROUP BY\n",
    "            a.cod_DP,\n",
    "            a.nm_DP,\n",
    "            a.endereco,\n",
    "            b.Responsavel\n",
    "\t\n",
    "\t)a;\n",
    "'''\n",
    "dfdDP = pd.read_sql(qry_dDP, connection)"
   ]
  },
  {
   "cell_type": "markdown",
   "id": "alpine-monitor",
   "metadata": {},
   "source": [
    "# Coletando dados dos batalhões de polícia militar (bpm)"
   ]
  },
  {
   "cell_type": "code",
   "execution_count": null,
   "id": "wireless-walnut",
   "metadata": {},
   "outputs": [],
   "source": [
    "#Criar Data Frame com os dados dos BPMs\n",
    "tbLogBPM = pd.DataFrame(pd.read_csv(\"BPM.csv\"))\n",
    "\n",
    "#Criando coluna com a data da carga\n",
    "tbLogBPM['dtCarga'] = dtCarga"
   ]
  },
  {
   "cell_type": "markdown",
   "id": "wanted-migration",
   "metadata": {},
   "source": [
    "# Construindo a tabela de log de registros do bpm (tbLogBPM), no ODS"
   ]
  },
  {
   "cell_type": "code",
   "execution_count": null,
   "id": "genuine-sender",
   "metadata": {},
   "outputs": [],
   "source": [
    "#Definir a query de criação da tabela\n",
    "qry_tbLogBPM = '''\n",
    "    \n",
    "    CREATE TABLE IF NOT EXISTS tbLogBPM (\n",
    "    \n",
    "    codBPM INTEGER,\n",
    "    nmBPM VARCHAR (7),\n",
    "    enderecoBPM VARCHAR (200),\n",
    "    dtCarga timestamp without time zone\n",
    "\n",
    "    )\n",
    "'''\n",
    "\n",
    "#executar a criação da tbLogBPM\n",
    "SQL_ODS.execute(qry_tbLogBPM)\n",
    "\n",
    "#definição da qry de criação de index\n",
    "qry_idx_tbLogBPM_codBPM = \"CREATE INDEX IF NOT EXISTS idx_tbLogBPM_codBPM ON tbLogBPM (codBPM)\"\n",
    "\n",
    "#executar a criação do index\n",
    "SQL_ODS.execute(qry_idx_tbLogBPM_codBPM)"
   ]
  },
  {
   "cell_type": "markdown",
   "id": "nutritional-shower",
   "metadata": {},
   "source": [
    "# Inserindo dados na tbLogBPM"
   ]
  },
  {
   "cell_type": "code",
   "execution_count": null,
   "id": "expired-chrome",
   "metadata": {},
   "outputs": [],
   "source": [
    "#Inserindo registros na tabela tbLogBPM\n",
    "print(\"Iniciando a inserção de dados na tabela tbLogBPM.\")\n",
    "print(\"-------------------------------------------------\")\n",
    "\n",
    "SQL_ODS.executemany('''INSERT INTO tbLogBPM (codBPM,nmBPM,enderecoBPM,dtCarga) VALUES (%s,%s,%s,%s)''',tbLogBPM.values.tolist())\n",
    "\n",
    "#confirmar a transação\n",
    "connection.commit()\n",
    "\n",
    "#Exibir uma mensagem de conclusão de carga\n",
    "print(\"Carga finalizada!\",len(tbLogBPM), \"registros inseridos na tbLogBPM!\")"
   ]
  },
  {
   "cell_type": "markdown",
   "id": "defined-excess",
   "metadata": {},
   "source": [
    "# Coletar dados da área dos batalhões da polícia militar"
   ]
  },
  {
   "cell_type": "code",
   "execution_count": null,
   "id": "ecological-turner",
   "metadata": {},
   "outputs": [],
   "source": [
    "#Criar Data Frame com os dados dos BPMs\n",
    "tbLogAreaBPM = pd.DataFrame(pd.read_csv(\"areaBPMv1.csv\"))\n",
    "\n",
    "#Criando coluna com a data da carga\n",
    "tbLogAreaBPM['dtCarga'] = dtCarga"
   ]
  },
  {
   "cell_type": "markdown",
   "id": "disabled-thumb",
   "metadata": {},
   "source": [
    "# Construindo a tabela de log de registros da área dos bpms (tblogareabpm), no ods"
   ]
  },
  {
   "cell_type": "code",
   "execution_count": null,
   "id": "animated-defense",
   "metadata": {},
   "outputs": [],
   "source": [
    "#Definir a query de criação da tabela\n",
    "qry_tbLogAreaBPM = '''\n",
    "    \n",
    "    CREATE TABLE IF NOT EXISTS tbLogAreaBPM (\n",
    "    \n",
    "    codBPM INTEGER,\n",
    "    areaBPM NUMERIC (7,2),\n",
    "    dtCarga timestamp without time zone\n",
    "\n",
    "    )\n",
    "'''\n",
    "\n",
    "#executar a criação da tbLogAreaBPM\n",
    "SQL_ODS.execute(qry_tbLogAreaBPM)\n",
    "\n",
    "#definição da qry de criação de index\n",
    "qry_idx_tbLogAreaBPM_codBPM = \"CREATE INDEX IF NOT EXISTS idx_tbLogAreaBPM_codBPM ON tbLogAreaBPM (codBPM)\"\n",
    "\n",
    "#executar a criação do index\n",
    "SQL_ODS.execute(qry_idx_tbLogAreaBPM_codBPM)\n",
    "connection.commit()"
   ]
  },
  {
   "cell_type": "markdown",
   "id": "saved-scope",
   "metadata": {},
   "source": [
    "# Inserindo dados da área dos bpms na tabela tblogareabpm"
   ]
  },
  {
   "cell_type": "code",
   "execution_count": null,
   "id": "running-trader",
   "metadata": {
    "scrolled": false
   },
   "outputs": [],
   "source": [
    "#Inserindo registros na tabela tbLogAreaBPM\n",
    "print(\"Iniciando a inserção de dados na tabela tbLogAreaBPM.\")\n",
    "print(\"-------------------------------------------------\")\n",
    "\n",
    "SQL_ODS.executemany('''INSERT INTO tbLogAreaBPM (codBPM,areaBPM,dtCarga) VALUES (%s,%s,%s)''',tbLogAreaBPM.values.tolist())\n",
    "\n",
    "#confirmar a transação\n",
    "connection.commit()\n",
    "\n",
    "#Exibir uma mensagem de conclusão de carga\n",
    "print(\"Carga finalizada!\",len(tbLogAreaBPM), \"registros inseridos na tbLogAreaBPM\")"
   ]
  },
  {
   "cell_type": "markdown",
   "id": "lyric-convention",
   "metadata": {},
   "source": [
    "# Criando o dataframe com o select de criação da dimensão dp (dbpm), no dw"
   ]
  },
  {
   "cell_type": "code",
   "execution_count": null,
   "id": "verified-mills",
   "metadata": {},
   "outputs": [],
   "source": [
    "#Definir a query de criação da dimensão dBPM\n",
    "qry_dBPM = '''\n",
    "    SELECT\n",
    "        codBPM,\n",
    "        nmBPM,\n",
    "        enderecoBPM,\n",
    "        areaBPM\n",
    "    FROM \n",
    "    (\n",
    "        SELECT \n",
    "            a.codBPM,\n",
    "            a.nmBPM,\n",
    "            a.enderecoBPM,\n",
    "            b.areaBPM,\n",
    "            max(a.dtCarga)\n",
    "        FROM tbLogBPM a\n",
    "        JOIN tbLogAreaBPM b\n",
    "        ON a.codBPM = b.codBPM\n",
    "        WHERE a.dtCarga = (\n",
    "                            SELECT MAX(x.dtCarga)\n",
    "                            FROM tbLogBPM x\n",
    "                       )\n",
    "        GROUP BY\n",
    "            a.codBPM,\n",
    "            a.nmBPM,\n",
    "            a.enderecoBPM,\n",
    "            b.areaBPM\n",
    "    ) a\n",
    "'''\n",
    "\n",
    "dBPM = pd.read_sql(qry_dBPM,connection)"
   ]
  },
  {
   "cell_type": "markdown",
   "id": "joined-spyware",
   "metadata": {},
   "source": [
    "# Coleta de dados dos registros de ocorrencias"
   ]
  },
  {
   "cell_type": "code",
   "execution_count": null,
   "id": "textile-opening",
   "metadata": {},
   "outputs": [],
   "source": [
    "#Dataframe com os dados dos registros das ocorrencias\n",
    "tbLogOcorrencias = pd.DataFrame(pd.read_csv('OcorrenciaV2.csv'))\n",
    "\n",
    "#Criando coluna com dtCarga\n",
    "dtCarga = datetime.today().strftime('%d/%m/%y %H:%M')\n",
    "tbLogOcorrencias['dtCarga'] = dtCarga"
   ]
  },
  {
   "cell_type": "markdown",
   "id": "further-macro",
   "metadata": {},
   "source": [
    "# Criando tabela tbOcorrencias em SQL"
   ]
  },
  {
   "cell_type": "code",
   "execution_count": null,
   "id": "opposed-samba",
   "metadata": {},
   "outputs": [],
   "source": [
    "#Criando query\n",
    "qry_create_tbOcorrencias = '''\n",
    "CREATE TABLE IF NOT EXISTS tbLogOcorrencias (\n",
    "    \n",
    "    codDP INTEGER,\n",
    "    codBPM INTEGER,\n",
    "    ano INTEGER,\n",
    "    mes INTEGER,\n",
    "    mes_ano CHAR(7),\n",
    "    regiao INTEGER,\n",
    "    codMunicIBGE INTEGER,\n",
    "    ocorrencias VARCHAR(100),\n",
    "    qtde INTEGER,\n",
    "    dtCarga timestamp without time zone\n",
    "    )\n",
    "'''\n",
    "#executar a criação da Ocorrencias\n",
    "SQL_ODS.execute(qry_create_tbOcorrencias)\n",
    "\n",
    "#definição da qry de criação de index\n",
    "qry_idx_tbOcorrencias = \"CREATE INDEX IF NOT EXISTS idx_tbLogOcorrencias ON tbLogOcorrencias (codDP,codBPM,codMunicIBGE)\"\n",
    "\n",
    "#executar a criação do index\n",
    "SQL_ODS.execute(qry_idx_tbOcorrencias)\n",
    "connection.commit()"
   ]
  },
  {
   "cell_type": "code",
   "execution_count": null,
   "id": "informed-plymouth",
   "metadata": {},
   "outputs": [],
   "source": [
    "#inserindo dados na tbLogOcorrencias\n",
    "print(\"Iniciando a carga de dados na tbLogOcorrencias\")\n",
    "print(\"-----------------------------------------------\")\n",
    "SQL_ODS.executemany('''\n",
    "\n",
    "    INSERT INTO tbLogOcorrencias (codDP,codBPM,ano,mes,mes_ano,regiao,codMunicIBGE,ocorrencias,qtde,dtCarga)\n",
    "    VALUES(%s,%s,%s,%s,%s,%s,%s,%s,%s,%s)    \n",
    "    ''', \n",
    "    tbLogOcorrencias.values.tolist()\n",
    "\n",
    ")\n",
    "\n",
    "#confirmar a transação\n",
    "connection.commit()\n",
    "\n",
    "print(\"Fim da carga de dados da tbLogOcorrencias!\",len(tbLogOcorrencias),\"Registros inseridos!\")"
   ]
  },
  {
   "cell_type": "markdown",
   "id": "executive-macro",
   "metadata": {},
   "source": [
    "# Criando DataFrame com o resultado da query de ocorrencias"
   ]
  },
  {
   "cell_type": "code",
   "execution_count": null,
   "id": "gorgeous-denver",
   "metadata": {},
   "outputs": [],
   "source": [
    "qry_ocorrencias = '''\n",
    "SELECT \n",
    "\ta.coddp,\n",
    "\ta.codbpm,\n",
    "\ta.mes,\n",
    "\ta.ano,\n",
    "\ta.codmunicibge,\n",
    "\ta.ocorrencias,\n",
    "\ta.qtde\n",
    "FROM tblogocorrencias a \n",
    "WHERE a.dtcarga = (SELECT max(dtcarga)\n",
    "\t\t\t\t  FROM tblogocorrencias)\n",
    "'''\n",
    "dfocorrencias = pd.read_sql(qry_ocorrencias, connection)"
   ]
  },
  {
   "cell_type": "markdown",
   "id": "adjacent-playlist",
   "metadata": {},
   "source": [
    "# Fechando conexão com o ODS"
   ]
  },
  {
   "cell_type": "code",
   "execution_count": null,
   "id": "human-character",
   "metadata": {},
   "outputs": [],
   "source": [
    "connection.commit()\n",
    "connection.close()"
   ]
  },
  {
   "cell_type": "markdown",
   "id": "distinct-croatia",
   "metadata": {},
   "source": [
    "# Conetando no DW e informando ao python que usarei linguagem SQL"
   ]
  },
  {
   "cell_type": "code",
   "execution_count": null,
   "id": "encouraging-choice",
   "metadata": {},
   "outputs": [],
   "source": [
    "dadosIBGE = dadosIBGE[['nmMunic','codMunic']]\n",
    "\n",
    "host = \"localhost\"  # ou o endereço do servidor PostgreSQL\n",
    "port = \"5432\"       # a porta padrão é 5432\n",
    "database = \"pascoaDW\"  # substitua pelo nome do banco de dados\n",
    "user = \"postgres\"  # substitua pelo nome do usuário do PostgreSQL\n",
    "password = \"bloqeiodofgh\"  # substitua pela senha do usuário do PostgreSQL\n",
    "\n",
    "# Conectando ao PostgreSQL\n",
    "try:\n",
    "    connection = sql.connect(\n",
    "        host=host,\n",
    "        port=port,\n",
    "        database=database,\n",
    "        user=user,\n",
    "        password=password\n",
    "    )\n",
    "    print(\"Conexão ao PostgreSQL bem-sucedida!\")\n",
    "    # Faça suas operações com o banco de dados aqui...\n",
    "    #connection.close()  # Não esqueça de fechar a conexão quando terminar!\n",
    "except sql.Error as e:\n",
    "    print(\"Erro ao conectar ao PostgreSQL:\", e)\n"
   ]
  },
  {
   "cell_type": "code",
   "execution_count": null,
   "id": "altered-madrid",
   "metadata": {},
   "outputs": [],
   "source": [
    "#Definição de manipulação de dados em SQL\n",
    "SQL_DW = connection.cursor()"
   ]
  },
  {
   "cell_type": "code",
   "execution_count": null,
   "id": "pursuant-venue",
   "metadata": {
    "scrolled": true
   },
   "outputs": [],
   "source": [
    "# Carregar os dados do DataFrame dadosIBGE na tabela dMunicipio\n",
    "# Certifique-se de que o DataFrame corresponde à estrutura da tabela\n",
    "engine = create_engine(f\"postgresql://{user}:{password}@{host}:{port}/{database}\")\n",
    "\n",
    "#Deletando a tabela caso ela exista\n",
    "SQL_DW.execute('DROP TABLE IF EXISTS public.\"dMunicipio\"')\n",
    "dadosIBGE.to_sql('dMunicipio', engine, if_exists=\"append\", index=False)"
   ]
  },
  {
   "cell_type": "code",
   "execution_count": null,
   "id": "critical-lodge",
   "metadata": {
    "scrolled": true
   },
   "outputs": [],
   "source": [
    "dfdDP"
   ]
  },
  {
   "cell_type": "markdown",
   "id": "nonprofit-promotion",
   "metadata": {},
   "source": [
    "# Deletando dados antigos e reiniciando ao autoincremental da chave"
   ]
  },
  {
   "cell_type": "code",
   "execution_count": null,
   "id": "solid-civilian",
   "metadata": {},
   "outputs": [],
   "source": [
    "#Deletar os dados atuais\n",
    "SQL_DW.execute(\"DELETE FROM dDP\")\n",
    "\n",
    "#Reiniciando o autoincramental da chave\n",
    "SQL_DW.execute(\"ALTER SEQUENCE dDP_idDP_seq RESTART WITH 1;\")\n",
    "\n",
    "#Confirmar a transação\n",
    "connection.commit()"
   ]
  },
  {
   "cell_type": "markdown",
   "id": "latest-sculpture",
   "metadata": {},
   "source": [
    "# Inserindo dados na dimensão dp (ddp), no dw"
   ]
  },
  {
   "cell_type": "code",
   "execution_count": null,
   "id": "supported-brick",
   "metadata": {
    "scrolled": true
   },
   "outputs": [],
   "source": [
    "#Inserindo registros na tabela tbLogRespDP\n",
    "print(\"Iniciando a inserção de dados na tabela dDP.\")\n",
    "print(\"-------------------------------------------------\")\n",
    "\n",
    "SQL_DW.executemany('''INSERT INTO dDP (cod_DP, nm_dp, endereco, responsavel) VALUES (%s, %s, %s, %s)''',dfdDP.values.tolist())\n",
    "\n",
    "#confirmar a transação\n",
    "connection.commit()\n",
    "\n",
    "#Exibir uma mensagem de conclusão de carga\n",
    "print(\"Carga finalizada!\",len(dfdDP), \"registros inseridos na dDP!\")"
   ]
  },
  {
   "cell_type": "markdown",
   "id": "weird-parliament",
   "metadata": {},
   "source": [
    "# Validando carga dos dados da dimensão dp (ddp)"
   ]
  },
  {
   "cell_type": "code",
   "execution_count": null,
   "id": "interracial-cabin",
   "metadata": {
    "scrolled": true
   },
   "outputs": [],
   "source": [
    "pd.read_sql(\"SELECT * FROM dDP\",connection)"
   ]
  },
  {
   "cell_type": "markdown",
   "id": "alike-going",
   "metadata": {},
   "source": [
    "# Construindo tabela de dimensão período (dperiodo) no DW"
   ]
  },
  {
   "cell_type": "code",
   "execution_count": null,
   "id": "furnished-department",
   "metadata": {},
   "outputs": [],
   "source": [
    "#Definir a query de criação da tabela\n",
    "qry_dperiodo = '''\n",
    "    \n",
    "    CREATE TABLE IF NOT EXISTS dperiodo (\n",
    "    \n",
    "    idperiodo SERIAL PRIMARY KEY,\n",
    "    data timestamp without time zone,\n",
    "    mes INTEGER,\n",
    "    ano INTEGER,\n",
    "    trimestre INTEGER,\n",
    "    semestre INTEGER\n",
    "    )\n",
    "'''\n",
    "\n",
    "#executar a criação da dperiodo\n",
    "SQL_DW.execute(qry_dperiodo)\n",
    "\n",
    "#executar a criação do index idperiodo\n",
    "SQL_DW.execute(\"CREATE INDEX IF NOT EXISTS idx_dperiodo_idperiodo ON dperiodo (idperiodo)\")\n",
    "\n",
    "#executar a criação do index codBPM\n",
    "SQL_DW.execute(\"CREATE INDEX IF NOT EXISTS idx_dBPM_codBPM ON dperiodo (mes, ano, trimestre, semestre)\")\n",
    "connection.commit()"
   ]
  },
  {
   "cell_type": "markdown",
   "id": "based-obligation",
   "metadata": {},
   "source": [
    "# Construindo a tabela de dimensão bpm (dbpm), no dw"
   ]
  },
  {
   "cell_type": "code",
   "execution_count": null,
   "id": "gentle-castle",
   "metadata": {},
   "outputs": [],
   "source": [
    "#Definir a query de criação da tabela\n",
    "qry_dBPM = '''\n",
    "    \n",
    "    CREATE TABLE IF NOT EXISTS dBPM (\n",
    "    \n",
    "    idBPM SERIAL PRIMARY KEY,\n",
    "    codBPM INTEGER,\n",
    "    nmBPM VARCHAR (7),\n",
    "    enderecoBPM VARCHAR (200),\n",
    "    areaBPM NUMERIC (7,2)\n",
    "\n",
    "    )\n",
    "'''\n",
    "\n",
    "#executar a criação da tbLogBPM\n",
    "SQL_DW.execute(qry_dBPM)\n",
    "\n",
    "#executar a criação do index idBPM\n",
    "SQL_DW.execute(\"CREATE INDEX IF NOT EXISTS idx_dBPM_idBPM ON dBPM (idBPM)\")\n",
    "\n",
    "#executar a criação do index codBPM\n",
    "SQL_DW.execute(\"CREATE INDEX IF NOT EXISTS idx_dBPM_codBPM ON dBPM (codBPM)\")\n",
    "connection.commit()"
   ]
  },
  {
   "cell_type": "markdown",
   "id": "unlikely-destination",
   "metadata": {},
   "source": [
    "# Deletando dados antigos e reiniciando ao autoincremental da chave"
   ]
  },
  {
   "cell_type": "code",
   "execution_count": null,
   "id": "superior-collins",
   "metadata": {},
   "outputs": [],
   "source": [
    "#Deletar os dados atuais\n",
    "SQL_DW.execute(\"DELETE FROM dBPM\")\n",
    "\n",
    "#Reiniciando o autoincramental da chave\n",
    "SQL_DW.execute(\"ALTER SEQUENCE dBPM_idBPM_seq RESTART WITH 1;\")\n",
    "\n",
    "#Confirmar a transação\n",
    "connection.commit()"
   ]
  },
  {
   "cell_type": "markdown",
   "id": "recent-relationship",
   "metadata": {},
   "source": [
    "# Inserindo dados na dimensão dp (ddp), no dw"
   ]
  },
  {
   "cell_type": "code",
   "execution_count": null,
   "id": "ancient-solomon",
   "metadata": {
    "scrolled": true
   },
   "outputs": [],
   "source": [
    "#Inserindo registros na tabela dBPM\n",
    "print(\"Iniciando a inserção de dados na tabela dBPM.\")\n",
    "print(\"-------------------------------------------------\")\n",
    "\n",
    "SQL_DW.executemany('''INSERT INTO dBPM (codBPM, nmBPM, enderecoBPM, areaBPM) VALUES (%s, %s, %s, %s)''',dBPM.values.tolist())\n",
    "\n",
    "#confirmar a transação\n",
    "connection.commit()\n",
    "\n",
    "#Exibir uma mensagem de conclusão de carga\n",
    "print(\"Carga finalizada!\",len(dBPM), \"registros inseridos na dBPM!\")"
   ]
  },
  {
   "cell_type": "markdown",
   "id": "enabling-growth",
   "metadata": {},
   "source": [
    "# Deletando dados antigos e reiniciando ao autoincremental da chave"
   ]
  },
  {
   "cell_type": "code",
   "execution_count": null,
   "id": "signed-graph",
   "metadata": {},
   "outputs": [],
   "source": [
    "#Deletar os dados atuais\n",
    "SQL_DW.execute(\"DELETE FROM dperiodo\")\n",
    "\n",
    "#Reiniciando o autoincramental da chave\n",
    "SQL_DW.execute(\"ALTER SEQUENCE dperiodo_idperiodo_seq RESTART WITH 1;\")\n",
    "\n",
    "#Confirmar a transação\n",
    "connection.commit()"
   ]
  },
  {
   "cell_type": "markdown",
   "id": "reserved-sodium",
   "metadata": {},
   "source": [
    "# Inserindo dados na dimensão dp (ddp), no dw"
   ]
  },
  {
   "cell_type": "code",
   "execution_count": null,
   "id": "raised-aside",
   "metadata": {
    "scrolled": true
   },
   "outputs": [],
   "source": [
    "#Inserindo registros na tabela data\n",
    "print(\"Iniciando a inserção de dados na tabela dperiodo.\")\n",
    "print(\"-------------------------------------------------\")\n",
    "\n",
    "#Criando query \n",
    "query_dperiodo = '''\n",
    "WITH RECURSIVE data(d) AS (\n",
    "    VALUES ('2018-01-01'::date)\n",
    "    UNION ALL\n",
    "    SELECT (d + INTERVAL '1 day')::date\n",
    "    FROM data\n",
    "    WHERE d < ('2021-12-01'::date)\n",
    ")\n",
    "SELECT \n",
    "    TO_CHAR(d, 'dd-mm-YYYY') AS Data,\n",
    "    CAST(TO_CHAR(d, 'MM') AS INTEGER) AS Mes,\n",
    "\tCAST(TO_CHAR(d, 'yyyy') AS INTEGER) AS Ano,\n",
    "\tCASE WHEN CAST(TO_CHAR(d, 'MM') AS INTEGER) in (1, 2, 3) THEN 1\n",
    "\tWHEN CAST(TO_CHAR(d, 'MM') AS INTEGER) in (4, 5, 6) THEN 2\n",
    "\tWHEN CAST(TO_CHAR(d, 'MM') AS INTEGER) in (7, 8, 9) THEN 3\n",
    "\telse 3\n",
    "\tend as Trimestre,\n",
    "\tCASE WHEN CAST(TO_CHAR(d, 'MM')AS INTEGER) IN (1, 2, 3, 4, 5, 6) THEN 1\n",
    "\telse 2\n",
    "\tend as Semestre\n",
    "\t\n",
    "FROM data;\n",
    "'''\n",
    "\n",
    "#Executando a query e carregando na tabela dperiodo\n",
    "dperiodo = pd.read_sql(query_dperiodo, connection)\n",
    "\n",
    "dperiodo['data'] = pd.to_datetime(dperiodo['data'], format='%d-%m-%Y').dt.strftime('%Y-%m-%d')\n",
    "SQL_DW.executemany('''INSERT INTO dperiodo (data, mes, ano, trimestre, semestre) VALUES (%s, %s, %s, %s, %s)''',dperiodo.values.tolist())\n",
    "\n",
    "#confirmar a transação\n",
    "connection.commit()\n",
    "\n",
    "#Exibir uma mensagem de conclusão de carga\n",
    "print(\"Carga finalizada!\",len(dperiodo), \"registros inseridos na dBPM!\")"
   ]
  },
  {
   "cell_type": "markdown",
   "id": "neutral-tooth",
   "metadata": {},
   "source": [
    "# Criando a tabela fato ocorrencias no DW"
   ]
  },
  {
   "cell_type": "code",
   "execution_count": null,
   "id": "considerable-productivity",
   "metadata": {},
   "outputs": [],
   "source": [
    "#definindo a qry da criação da fOcorrencias\n",
    "\n",
    "qry_tbfocorrencias = '''\n",
    "create table if not exists fOcorrencias(\n",
    "\tidDP INTEGER REFERENCES DDP(idDP) ON UPDATE NO ACTION ON DELETE NO ACTION,\n",
    "    idbpm INTEGER REFERENCES dbpm(idbpm) ON UPDATE NO ACTION ON DELETE NO ACTION,\n",
    "    idperiodo INTEGER REFERENCES dperiodo(idperiodo) ON UPDATE NO ACTION ON DELETE NO ACTION,\n",
    "    codMunic INTEGER REFERENCES public.\"dMunicipio\"(codMunic) ON UPDATE NO ACTION ON DELETE NO ACTION,\n",
    "    regiao INTEGER,\n",
    "    ocorrencias VARCHAR(100),\n",
    "    qtde INTEGER\n",
    ")\n",
    "'''\n",
    "SQL_DW.execute(qry_tbfocorrencias)\n",
    "\n",
    "#Criando index \n",
    "SQL_DW.execute(\"CREATE INDEX IF NOT EXISTS idx_fOcorrencias ON fOcorrencias(idDP,idBPM,idPeriodo,idMunic)\")\n",
    "               \n",
    "#confirmar a transação\n",
    "conexaoDW.commit()"
   ]
  },
  {
   "cell_type": "markdown",
   "id": "occupational-homework",
   "metadata": {},
   "source": [
    "# Fechando a conexão com o DW"
   ]
  },
  {
   "cell_type": "code",
   "execution_count": null,
   "id": "worldwide-roommate",
   "metadata": {},
   "outputs": [],
   "source": [
    "connection.commit()\n",
    "connection.close()"
   ]
  },
  {
   "cell_type": "code",
   "execution_count": null,
   "id": "coordinated-tolerance",
   "metadata": {},
   "outputs": [],
   "source": []
  },
  {
   "cell_type": "code",
   "execution_count": null,
   "id": "confused-ultimate",
   "metadata": {},
   "outputs": [],
   "source": []
  }
 ],
 "metadata": {
  "kernelspec": {
   "display_name": "Python 3",
   "language": "python",
   "name": "python3"
  },
  "language_info": {
   "codemirror_mode": {
    "name": "ipython",
    "version": 3
   },
   "file_extension": ".py",
   "mimetype": "text/x-python",
   "name": "python",
   "nbconvert_exporter": "python",
   "pygments_lexer": "ipython3",
   "version": "3.7.10"
  }
 },
 "nbformat": 4,
 "nbformat_minor": 5
}
