{
  "cells": [
    {
      "cell_type": "code",
      "execution_count": 1,
      "metadata": {
        "colab": {
          "base_uri": "https://localhost:8080/",
          "height": 836
        },
        "id": "xvt-qSIPiewm",
        "outputId": "6e874ca0-5667-4d6b-e647-372ef11bf9fc"
      },
      "outputs": [
        {
          "name": "stdout",
          "output_type": "stream",
          "text": [
            "{'id': '5', 'datatype': 'HidraulicPrespessure', 'data': '-75.3599497817313', 'timestamp': '2024-05-15 14:21:00.097245'}\n",
            "{'id': '6', 'datatype': 'HidraulicPrespessure', 'data': '-74.5694274938876', 'timestamp': '2024-05-15 14:21:00.598115'}\n",
            "{'id': '7', 'datatype': 'HidraulicPrespessure', 'data': '-74.33555750900479', 'timestamp': '2024-05-15 14:21:01.098888'}\n",
            "{'id': '8', 'datatype': 'HidraulicPrespessure', 'data': '-75.61970092428162', 'timestamp': '2024-05-15 14:21:01.599643'}\n",
            "{'id': '9', 'datatype': 'HidraulicPrespessure', 'data': '-77.90723445448273', 'timestamp': '2024-05-15 14:21:02.100319'}\n",
            "{'id': '10', 'datatype': 'HidraulicPrespessure', 'data': '-80.10392195994552', 'timestamp': '2024-05-15 14:21:02.601103'}\n",
            "{'id': '11', 'datatype': 'HidraulicPrespessure', 'data': '-80.29683872455973', 'timestamp': '2024-05-15 14:21:03.101786'}\n",
            "{'id': '12', 'datatype': 'HidraulicPrespessure', 'data': '-84.46923548676622', 'timestamp': '2024-05-15 14:21:03.602582'}\n",
            "{'id': '13', 'datatype': 'HidraulicPrespessure', 'data': '-79.04024745213897', 'timestamp': '2024-05-15 14:21:04.103340'}\n",
            "{'id': '14', 'datatype': 'HidraulicPrespessure', 'data': '-84.83127082183121', 'timestamp': '2024-05-15 14:21:04.604464'}\n",
            "{'id': '15', 'datatype': 'HidraulicPrespessure', 'data': '-78.24134622945758', 'timestamp': '2024-05-15 14:21:05.105221'}\n",
            "{'id': '16', 'datatype': 'HidraulicPrespessure', 'data': '-81.67298988041274', 'timestamp': '2024-05-15 14:21:05.606188'}\n",
            "{'id': '17', 'datatype': 'HidraulicPrespessure', 'data': '-72.22908162833457', 'timestamp': '2024-05-15 14:21:06.106972'}\n",
            "{'id': '18', 'datatype': 'HidraulicPrespessure', 'data': '-74.16582456203004', 'timestamp': '2024-05-15 14:21:06.607310'}\n",
            "{'id': '19', 'datatype': 'HidraulicPrespessure', 'data': '-79.29554516941572', 'timestamp': '2024-05-15 14:21:07.108061'}\n",
            "{'id': '20', 'datatype': 'HidraulicPrespessure', 'data': '-74.5153395552019', 'timestamp': '2024-05-15 14:21:07.608343'}\n",
            "{'id': '21', 'datatype': 'HidraulicPrespessure', 'data': '-84.86711189108757', 'timestamp': '2024-05-15 14:21:08.109129'}\n",
            "{'id': '22', 'datatype': 'HidraulicPrespessure', 'data': '-80.37563917744231', 'timestamp': '2024-05-15 14:21:08.612152'}\n",
            "{'id': '23', 'datatype': 'HidraulicPrespessure', 'data': '-78.22393900810515', 'timestamp': '2024-05-15 14:21:09.112454'}\n",
            "{'id': '24', 'datatype': 'HidraulicPrespessure', 'data': '-76.1835243753303', 'timestamp': '2024-05-15 14:21:09.612924'}\n",
            "{'id': '25', 'datatype': 'HidraulicPrespessure', 'data': '-72.21364068335754', 'timestamp': '2024-05-15 14:21:10.113362'}\n",
            "{'id': '26', 'datatype': 'HidraulicPrespessure', 'data': '-77.981207025781', 'timestamp': '2024-05-15 14:21:10.613689'}\n",
            "{'id': '27', 'datatype': 'HidraulicPrespessure', 'data': '-81.90576922016794', 'timestamp': '2024-05-15 14:21:11.114307'}\n",
            "{'id': '28', 'datatype': 'HidraulicPrespessure', 'data': '-78.8800163434858', 'timestamp': '2024-05-15 14:21:11.615018'}\n",
            "{'id': '29', 'datatype': 'HidraulicPrespessure', 'data': '-84.19383785287667', 'timestamp': '2024-05-15 14:21:12.115378'}\n",
            "{'id': '30', 'datatype': 'HidraulicPrespessure', 'data': '-80.6712036019957', 'timestamp': '2024-05-15 14:21:12.616181'}\n",
            "{'id': '31', 'datatype': 'HidraulicPrespessure', 'data': '-83.69903827453957', 'timestamp': '2024-05-15 14:21:13.116899'}\n",
            "{'id': '32', 'datatype': 'HidraulicPrespessure', 'data': '-79.91250017586103', 'timestamp': '2024-05-15 14:21:13.617337'}\n",
            "{'id': '33', 'datatype': 'HidraulicPrespessure', 'data': '-75.08960388154975', 'timestamp': '2024-05-15 14:21:14.118107'}\n",
            "{'id': '34', 'datatype': 'HidraulicPrespessure', 'data': '-78.82424586340764', 'timestamp': '2024-05-15 14:21:14.618393'}\n",
            "{'id': '35', 'datatype': 'HidraulicPrespessure', 'data': '-82.5126694752123', 'timestamp': '2024-05-15 14:21:15.119931'}\n",
            "{'id': '36', 'datatype': 'HidraulicPrespessure', 'data': '-76.7839668872028', 'timestamp': '2024-05-15 14:21:15.621485'}\n",
            "{'id': '37', 'datatype': 'HidraulicPrespessure', 'data': '-70.7191451358422', 'timestamp': '2024-05-15 14:21:16.121829'}\n",
            "{'id': '38', 'datatype': 'HidraulicPrespessure', 'data': '-74.76294879925425', 'timestamp': '2024-05-15 14:21:16.622425'}\n",
            "{'id': '39', 'datatype': 'HidraulicPrespessure', 'data': '-76.85466496221285', 'timestamp': '2024-05-15 14:21:17.123016'}\n",
            "{'id': '40', 'datatype': 'HidraulicPrespessure', 'data': '-78.85711106814837', 'timestamp': '2024-05-15 14:21:17.623423'}\n"
          ]
        },
        {
          "ename": "KeyboardInterrupt",
          "evalue": "",
          "output_type": "error",
          "traceback": [
            "\u001b[0;31m---------------------------------------------------------------------------\u001b[0m",
            "\u001b[0;31mKeyboardInterrupt\u001b[0m                         Traceback (most recent call last)",
            "\u001b[0;32m<ipython-input-1-c21de990dcbc>\u001b[0m in \u001b[0;36m<cell line: 13>\u001b[0;34m()\u001b[0m\n\u001b[1;32m     22\u001b[0m      \u001b[0;31m# PartitionKey = '02'\u001b[0m\u001b[0;34m\u001b[0m\u001b[0;34m\u001b[0m\u001b[0m\n\u001b[1;32m     23\u001b[0m   \u001b[0;31m#)\u001b[0m\u001b[0;34m\u001b[0m\u001b[0;34m\u001b[0m\u001b[0m\n\u001b[0;32m---> 24\u001b[0;31m   \u001b[0mtime\u001b[0m\u001b[0;34m.\u001b[0m\u001b[0msleep\u001b[0m\u001b[0;34m(\u001b[0m\u001b[0;36m0.5\u001b[0m\u001b[0;34m)\u001b[0m\u001b[0;34m\u001b[0m\u001b[0;34m\u001b[0m\u001b[0m\n\u001b[0m\u001b[1;32m     25\u001b[0m   \u001b[0mprint\u001b[0m\u001b[0;34m(\u001b[0m\u001b[0mregistro\u001b[0m\u001b[0;34m)\u001b[0m\u001b[0;34m\u001b[0m\u001b[0;34m\u001b[0m\u001b[0m\n\u001b[1;32m     26\u001b[0m \u001b[0;34m\u001b[0m\u001b[0m\n",
            "\u001b[0;31mKeyboardInterrupt\u001b[0m: "
          ]
        }
      ],
      "source": [
        "import boto3\n",
        "import json\n",
        "from  random import uniform\n",
        "import time\n",
        "from datetime import datetime\n",
        "\n",
        "cliente = boto3.client('kinesis', aws_access_key_id='#############', aws_secret_access_key = '#############',\n",
        "                    region_name='us-east-2')\n",
        "\n",
        "\n",
        "\n",
        "id = 0\n",
        "while True:\n",
        "  id += 1\n",
        "  hp = uniform(-70, -85)\n",
        "\n",
        "  registro = {'id': str(id), 'datatype':'HidraulicPrespessure', 'data': str(hp), 'timestamp': str(datetime.now())}\n",
        "\n",
        "  resposta = cliente.put_record(\n",
        "      StreamName = 'stream',\n",
        "      Data = json.dumps(registro),\n",
        "      PartitionKey = '02'\n",
        "  )\n",
        "  time.sleep(0.5)\n",
        "  print(registro)\n",
        "\n"
      ]
    }
  ],
  "metadata": {
    "colab": {
      "provenance": []
    },
    "kernelspec": {
      "display_name": "Python 3",
      "name": "python3"
    },
    "language_info": {
      "name": "python"
    }
  },
  "nbformat": 4,
  "nbformat_minor": 0
}
