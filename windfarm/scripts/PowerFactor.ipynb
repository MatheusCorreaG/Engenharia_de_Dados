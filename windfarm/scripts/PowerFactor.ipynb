{
  "cells": [
    {
      "cell_type": "code",
      "execution_count": 5,
      "metadata": {
        "colab": {
          "base_uri": "https://localhost:8080/",
          "height": 818
        },
        "id": "ci9-CLX6aYSF",
        "outputId": "faecea0e-693c-4965-f661-1846196f4094"
      },
      "outputs": [
        {
          "name": "stdout",
          "output_type": "stream",
          "text": [
            "{'id': '7', 'datatype': 'PowerFactor', 'data': '0.9975984480437123', 'timestamp': '2024-05-15 14:16:00.269575'}\n",
            "{'id': '8', 'datatype': 'PowerFactor', 'data': '0.7337375004631633', 'timestamp': '2024-05-15 14:16:00.771779'}\n",
            "{'id': '9', 'datatype': 'PowerFactor', 'data': '0.9936282066492796', 'timestamp': '2024-05-15 14:16:01.273297'}\n",
            "{'id': '10', 'datatype': 'PowerFactor', 'data': '0.9277784931986673', 'timestamp': '2024-05-15 14:16:01.773644'}\n",
            "{'id': '11', 'datatype': 'PowerFactor', 'data': '0.814204181607548', 'timestamp': '2024-05-15 14:16:02.274429'}\n",
            "{'id': '12', 'datatype': 'PowerFactor', 'data': '0.7259513620316375', 'timestamp': '2024-05-15 14:16:02.774671'}\n",
            "{'id': '13', 'datatype': 'PowerFactor', 'data': '0.758046933105421', 'timestamp': '2024-05-15 14:16:03.275425'}\n",
            "{'id': '14', 'datatype': 'PowerFactor', 'data': '0.7552880203518818', 'timestamp': '2024-05-15 14:16:03.776176'}\n",
            "{'id': '15', 'datatype': 'PowerFactor', 'data': '0.7743534812433934', 'timestamp': '2024-05-15 14:16:04.276883'}\n",
            "{'id': '16', 'datatype': 'PowerFactor', 'data': '0.8644260786408074', 'timestamp': '2024-05-15 14:16:04.777655'}\n",
            "{'id': '17', 'datatype': 'PowerFactor', 'data': '0.7956711537638524', 'timestamp': '2024-05-15 14:16:05.278357'}\n",
            "{'id': '18', 'datatype': 'PowerFactor', 'data': '0.8645013833406733', 'timestamp': '2024-05-15 14:16:05.778707'}\n",
            "{'id': '19', 'datatype': 'PowerFactor', 'data': '0.8603029049852741', 'timestamp': '2024-05-15 14:16:06.279468'}\n",
            "{'id': '20', 'datatype': 'PowerFactor', 'data': '0.8138681394942413', 'timestamp': '2024-05-15 14:16:06.780257'}\n",
            "{'id': '21', 'datatype': 'PowerFactor', 'data': '0.8877411386870144', 'timestamp': '2024-05-15 14:16:07.281001'}\n",
            "{'id': '22', 'datatype': 'PowerFactor', 'data': '0.7631120688245197', 'timestamp': '2024-05-15 14:16:07.781763'}\n",
            "{'id': '23', 'datatype': 'PowerFactor', 'data': '0.7521313006577929', 'timestamp': '2024-05-15 14:16:08.282594'}\n",
            "{'id': '24', 'datatype': 'PowerFactor', 'data': '0.9305390351007874', 'timestamp': '2024-05-15 14:16:08.783354'}\n",
            "{'id': '25', 'datatype': 'PowerFactor', 'data': '0.9091779102891071', 'timestamp': '2024-05-15 14:16:09.284114'}\n",
            "{'id': '26', 'datatype': 'PowerFactor', 'data': '0.9974043246210775', 'timestamp': '2024-05-15 14:16:09.784857'}\n",
            "{'id': '27', 'datatype': 'PowerFactor', 'data': '0.9788898863957393', 'timestamp': '2024-05-15 14:16:10.285660'}\n",
            "{'id': '28', 'datatype': 'PowerFactor', 'data': '0.9920737919088707', 'timestamp': '2024-05-15 14:16:10.786383'}\n",
            "{'id': '29', 'datatype': 'PowerFactor', 'data': '0.85635218877849', 'timestamp': '2024-05-15 14:16:11.287031'}\n",
            "{'id': '30', 'datatype': 'PowerFactor', 'data': '0.9381422992482338', 'timestamp': '2024-05-15 14:16:11.787698'}\n",
            "{'id': '31', 'datatype': 'PowerFactor', 'data': '0.9949399386559226', 'timestamp': '2024-05-15 14:16:12.288418'}\n",
            "{'id': '32', 'datatype': 'PowerFactor', 'data': '0.7046301615675614', 'timestamp': '2024-05-15 14:16:12.788690'}\n",
            "{'id': '33', 'datatype': 'PowerFactor', 'data': '0.8120418490450991', 'timestamp': '2024-05-15 14:16:13.289432'}\n",
            "{'id': '34', 'datatype': 'PowerFactor', 'data': '0.7436115628163156', 'timestamp': '2024-05-15 14:16:13.790148'}\n",
            "{'id': '35', 'datatype': 'PowerFactor', 'data': '0.915270366916709', 'timestamp': '2024-05-15 14:16:14.290667'}\n",
            "{'id': '36', 'datatype': 'PowerFactor', 'data': '0.9993822469077711', 'timestamp': '2024-05-15 14:16:14.791359'}\n",
            "{'id': '37', 'datatype': 'PowerFactor', 'data': '0.9582724874272355', 'timestamp': '2024-05-15 14:16:15.292071'}\n",
            "{'id': '38', 'datatype': 'PowerFactor', 'data': '0.770496687209597', 'timestamp': '2024-05-15 14:16:15.792680'}\n",
            "{'id': '39', 'datatype': 'PowerFactor', 'data': '0.9438884838431638', 'timestamp': '2024-05-15 14:16:16.293366'}\n",
            "{'id': '40', 'datatype': 'PowerFactor', 'data': '0.9109126804162007', 'timestamp': '2024-05-15 14:16:16.794121'}\n",
            "{'id': '41', 'datatype': 'PowerFactor', 'data': '0.9857513227109141', 'timestamp': '2024-05-15 14:16:17.294687'}\n",
            "{'id': '42', 'datatype': 'PowerFactor', 'data': '0.7735329006482425', 'timestamp': '2024-05-15 14:16:17.795424'}\n"
          ]
        },
        {
          "ename": "KeyboardInterrupt",
          "evalue": "",
          "output_type": "error",
          "traceback": [
            "\u001b[0;31m---------------------------------------------------------------------------\u001b[0m",
            "\u001b[0;31mKeyboardInterrupt\u001b[0m                         Traceback (most recent call last)",
            "\u001b[0;32m<ipython-input-5-49532e00da80>\u001b[0m in \u001b[0;36m<cell line: 12>\u001b[0;34m()\u001b[0m\n\u001b[1;32m     22\u001b[0m   \u001b[0;31m#)\u001b[0m\u001b[0;34m\u001b[0m\u001b[0;34m\u001b[0m\u001b[0m\n\u001b[1;32m     23\u001b[0m \u001b[0;34m\u001b[0m\u001b[0m\n\u001b[0;32m---> 24\u001b[0;31m   \u001b[0mtime\u001b[0m\u001b[0;34m.\u001b[0m\u001b[0msleep\u001b[0m\u001b[0;34m(\u001b[0m\u001b[0;36m0.5\u001b[0m\u001b[0;34m)\u001b[0m\u001b[0;34m\u001b[0m\u001b[0;34m\u001b[0m\u001b[0m\n\u001b[0m\u001b[1;32m     25\u001b[0m   \u001b[0mprint\u001b[0m\u001b[0;34m(\u001b[0m\u001b[0mregistro\u001b[0m\u001b[0;34m)\u001b[0m\u001b[0;34m\u001b[0m\u001b[0;34m\u001b[0m\u001b[0m\n",
            "\u001b[0;31mKeyboardInterrupt\u001b[0m: "
          ]
        }
      ],
      "source": [
        "import boto3\n",
        "import json\n",
        "from  random import uniform\n",
        "import time\n",
        "from datetime import datetime\n",
        "\n",
        "cliente = boto3.client('kinesis', aws_access_key_id='############', aws_secret_access_key = '##############',\n",
        "                       region_name='######')\n",
        "\n",
        "\n",
        "id = 0\n",
        "while True:\n",
        "  id += 1\n",
        "  pf = uniform(0.7, 1)\n",
        "\n",
        "  registro = {'id': str(id), 'datatype':'PowerFactor', 'data': str(pf), 'timestamp': str(datetime.now())}\n",
        "\n",
        "  resposta = cliente.put_record(\n",
        "      StreamName = 'stream',\n",
        "      Data = json.dumps(registro),\n",
        "      PartitionKey = '02'\n",
        "  )\n",
        "\n",
        "  time.sleep(0.5)\n",
        "  print(registro)\n"
      ]
    },
    {
      "cell_type": "code",
      "execution_count": null,
      "metadata": {
        "colab": {
          "base_uri": "https://localhost:8080/"
        },
        "id": "FzxeeEPQbDc4",
        "outputId": "f2cd9e97-4e7a-4adc-f0e9-10b5121715ed"
      },
      "outputs": [
        {
          "data": {
            "text/plain": [
              "<botocore.client.Kinesis at 0x7b5e46f40220>"
            ]
          },
          "execution_count": 20,
          "metadata": {},
          "output_type": "execute_result"
        }
      ],
      "source": []
    }
  ],
  "metadata": {
    "colab": {
      "provenance": []
    },
    "kernelspec": {
      "display_name": "Python 3",
      "name": "python3"
    },
    "language_info": {
      "name": "python"
    }
  },
  "nbformat": 4,
  "nbformat_minor": 0
}
