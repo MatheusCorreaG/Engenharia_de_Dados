{
  "cells": [
    {
      "cell_type": "code",
      "execution_count": 2,
      "metadata": {
        "colab": {
          "base_uri": "https://localhost:8080/",
          "height": 853
        },
        "id": "zXeyddadiUry",
        "outputId": "1ade8dca-311c-44e4-9378-864cd69e5af3"
      },
      "outputs": [
        {
          "name": "stdout",
          "output_type": "stream",
          "text": [
            "{'id': '6', 'datatype': 'TemperatureBattery', 'data': '-23.712104899294317', 'timestamp': '2024-05-15 14:19:45.764536'}\n",
            "{'id': '7', 'datatype': 'TemperatureBattery', 'data': '-20.732030982109467', 'timestamp': '2024-05-15 14:19:46.264867'}\n",
            "{'id': '8', 'datatype': 'TemperatureBattery', 'data': '-21.08664342084367', 'timestamp': '2024-05-15 14:19:46.766473'}\n",
            "{'id': '9', 'datatype': 'TemperatureBattery', 'data': '-22.68283471360537', 'timestamp': '2024-05-15 14:19:47.267328'}\n",
            "{'id': '10', 'datatype': 'TemperatureBattery', 'data': '-26.474348382647623', 'timestamp': '2024-05-15 14:19:47.767690'}\n",
            "{'id': '11', 'datatype': 'TemperatureBattery', 'data': '-26.72164248743237', 'timestamp': '2024-05-15 14:19:48.268519'}\n",
            "{'id': '12', 'datatype': 'TemperatureBattery', 'data': '-18.649338868102827', 'timestamp': '2024-05-15 14:19:48.769402'}\n",
            "{'id': '13', 'datatype': 'TemperatureBattery', 'data': '-26.710749871285685', 'timestamp': '2024-05-15 14:19:49.270226'}\n",
            "{'id': '14', 'datatype': 'TemperatureBattery', 'data': '-22.6184645357719', 'timestamp': '2024-05-15 14:19:49.771049'}\n",
            "{'id': '15', 'datatype': 'TemperatureBattery', 'data': '-21.471674217527116', 'timestamp': '2024-05-15 14:19:50.271745'}\n",
            "{'id': '16', 'datatype': 'TemperatureBattery', 'data': '-26.85734883772571', 'timestamp': '2024-05-15 14:19:50.772539'}\n",
            "{'id': '17', 'datatype': 'TemperatureBattery', 'data': '-20.228838862577547', 'timestamp': '2024-05-15 14:19:51.273408'}\n",
            "{'id': '18', 'datatype': 'TemperatureBattery', 'data': '-19.692018641885255', 'timestamp': '2024-05-15 14:19:51.774263'}\n",
            "{'id': '19', 'datatype': 'TemperatureBattery', 'data': '-26.13272799564482', 'timestamp': '2024-05-15 14:19:52.275013'}\n",
            "{'id': '20', 'datatype': 'TemperatureBattery', 'data': '-24.864635251199605', 'timestamp': '2024-05-15 14:19:52.775546'}\n",
            "{'id': '21', 'datatype': 'TemperatureBattery', 'data': '-22.554077781417007', 'timestamp': '2024-05-15 14:19:53.276375'}\n",
            "{'id': '22', 'datatype': 'TemperatureBattery', 'data': '-25.779157608488518', 'timestamp': '2024-05-15 14:19:53.776767'}\n",
            "{'id': '23', 'datatype': 'TemperatureBattery', 'data': '-21.56559230413658', 'timestamp': '2024-05-15 14:19:54.277478'}\n",
            "{'id': '24', 'datatype': 'TemperatureBattery', 'data': '-26.818590363299098', 'timestamp': '2024-05-15 14:19:54.778265'}\n",
            "{'id': '25', 'datatype': 'TemperatureBattery', 'data': '-24.17203179704897', 'timestamp': '2024-05-15 14:19:55.278554'}\n",
            "{'id': '26', 'datatype': 'TemperatureBattery', 'data': '-25.20392491241389', 'timestamp': '2024-05-15 14:19:55.779381'}\n",
            "{'id': '27', 'datatype': 'TemperatureBattery', 'data': '-22.897130949918903', 'timestamp': '2024-05-15 14:19:56.280294'}\n",
            "{'id': '28', 'datatype': 'TemperatureBattery', 'data': '-19.009859459920406', 'timestamp': '2024-05-15 14:19:56.780680'}\n",
            "{'id': '29', 'datatype': 'TemperatureBattery', 'data': '-18.10298079349512', 'timestamp': '2024-05-15 14:19:57.281519'}\n",
            "{'id': '30', 'datatype': 'TemperatureBattery', 'data': '-24.791194455514947', 'timestamp': '2024-05-15 14:19:57.782445'}\n",
            "{'id': '31', 'datatype': 'TemperatureBattery', 'data': '-22.44663312757554', 'timestamp': '2024-05-15 14:19:58.283595'}\n",
            "{'id': '32', 'datatype': 'TemperatureBattery', 'data': '-24.122398416934793', 'timestamp': '2024-05-15 14:19:58.784522'}\n",
            "{'id': '33', 'datatype': 'TemperatureBattery', 'data': '-21.587360468618208', 'timestamp': '2024-05-15 14:19:59.285316'}\n",
            "{'id': '34', 'datatype': 'TemperatureBattery', 'data': '-21.437796210680816', 'timestamp': '2024-05-15 14:19:59.786180'}\n",
            "{'id': '35', 'datatype': 'TemperatureBattery', 'data': '-23.957167595836932', 'timestamp': '2024-05-15 14:20:00.286601'}\n",
            "{'id': '36', 'datatype': 'TemperatureBattery', 'data': '-26.740929029510205', 'timestamp': '2024-05-15 14:20:00.787421'}\n",
            "{'id': '37', 'datatype': 'TemperatureBattery', 'data': '-25.078629235216432', 'timestamp': '2024-05-15 14:20:01.288269'}\n",
            "{'id': '38', 'datatype': 'TemperatureBattery', 'data': '-22.35931086208287', 'timestamp': '2024-05-15 14:20:01.789113'}\n",
            "{'id': '39', 'datatype': 'TemperatureBattery', 'data': '-25.49929388964834', 'timestamp': '2024-05-15 14:20:02.289908'}\n",
            "{'id': '40', 'datatype': 'TemperatureBattery', 'data': '-22.014855614719018', 'timestamp': '2024-05-15 14:20:02.790742'}\n",
            "{'id': '41', 'datatype': 'TemperatureBattery', 'data': '-25.6571691250274', 'timestamp': '2024-05-15 14:20:03.291586'}\n",
            "{'id': '42', 'datatype': 'TemperatureBattery', 'data': '-25.273390106187158', 'timestamp': '2024-05-15 14:20:03.792409'}\n"
          ]
        },
        {
          "ename": "KeyboardInterrupt",
          "evalue": "",
          "output_type": "error",
          "traceback": [
            "\u001b[0;31m---------------------------------------------------------------------------\u001b[0m",
            "\u001b[0;31mKeyboardInterrupt\u001b[0m                         Traceback (most recent call last)",
            "\u001b[0;32m<ipython-input-2-77b40e88c3bb>\u001b[0m in \u001b[0;36m<cell line: 12>\u001b[0;34m()\u001b[0m\n\u001b[1;32m     21\u001b[0m    \u001b[0;31m#   PartitionKey = '02'\u001b[0m\u001b[0;34m\u001b[0m\u001b[0;34m\u001b[0m\u001b[0m\n\u001b[1;32m     22\u001b[0m   \u001b[0;31m#)\u001b[0m\u001b[0;34m\u001b[0m\u001b[0;34m\u001b[0m\u001b[0m\n\u001b[0;32m---> 23\u001b[0;31m   \u001b[0mtime\u001b[0m\u001b[0;34m.\u001b[0m\u001b[0msleep\u001b[0m\u001b[0;34m(\u001b[0m\u001b[0;36m0.5\u001b[0m\u001b[0;34m)\u001b[0m\u001b[0;34m\u001b[0m\u001b[0;34m\u001b[0m\u001b[0m\n\u001b[0m\u001b[1;32m     24\u001b[0m   \u001b[0mprint\u001b[0m\u001b[0;34m(\u001b[0m\u001b[0mregistro\u001b[0m\u001b[0;34m)\u001b[0m\u001b[0;34m\u001b[0m\u001b[0;34m\u001b[0m\u001b[0m\n\u001b[1;32m     25\u001b[0m \u001b[0;34m\u001b[0m\u001b[0m\n",
            "\u001b[0;31mKeyboardInterrupt\u001b[0m: "
          ]
        }
      ],
      "source": [
        "import boto3\n",
        "import json\n",
        "from  random import uniform\n",
        "import time\n",
        "from datetime import datetime\n",
        "\n",
        "cliente = boto3.client('kinesis', aws_access_key_id='###########', aws_secret_access_key = '##############',\n",
        "                       region_name='us-east-2')\n",
        "\n",
        "\n",
        "id = 0\n",
        "while True:\n",
        "  id += 1\n",
        "  tb = uniform(-18, -27)\n",
        "\n",
        "  registro = {'id': str(id), 'datatype':'TemperatureBattery', 'data': str(tb), 'timestamp': str(datetime.now())}\n",
        "\n",
        "  resposta = cliente.put_record(\n",
        "      StreamName = 'stream',\n",
        "      Data = json.dumps(registro),\n",
        "      PartitionKey = '02'\n",
        "  )\n",
        "  time.sleep(0.5)\n",
        "  print(registro)\n",
        "\n",
        "\n"
      ]
    }
  ],
  "metadata": {
    "colab": {
      "provenance": []
    },
    "kernelspec": {
      "display_name": "Python 3",
      "name": "python3"
    },
    "language_info": {
      "name": "python"
    }
  },
  "nbformat": 4,
  "nbformat_minor": 0
}
